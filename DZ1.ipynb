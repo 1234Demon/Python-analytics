{
 "cells": [
  {
   "cell_type": "markdown",
   "id": "9acea649",
   "metadata": {},
   "source": [
    "# Домашнее задание №1\n",
    "## Условие 1:\n",
    "Оформляйте ноутбук, используя эти советы:\n",
    "- Номер задачи - заголовок 2\n",
    "- Номер подзадачи - заголовок 3\n",
    "- Предоставленные наборы данных оформляйте, как код\n",
    "---"
   ]
  },
  {
   "cell_type": "markdown",
   "id": "dbba9b6d",
   "metadata": {},
   "source": [
    "## Условие 2:\n",
    "На складе лежат разные фрукты в разном количестве.\n",
    "- Нужно написать функцию, которая на вход принимает любое количество названий фруктов и их количество, а возвращает общее количество фруктов на складе"
   ]
  },
  {
   "cell_type": "code",
   "execution_count": 4,
   "id": "c2ef3746",
   "metadata": {},
   "outputs": [
    {
     "name": "stdout",
     "output_type": "stream",
     "text": [
      "13\n",
      "15\n"
     ]
    }
   ],
   "source": [
    "def sum_fruits(apple, orange, banana, pear):\n",
    "    return apple + orange + banana + pear\n",
    "\n",
    "print(sum_fruits(4, 1, 3, 5))\n",
    "print(sum_fruits(orange = 3, apple = 2, banana = 8, pear = 2))"
   ]
  },
  {
   "cell_type": "markdown",
   "id": "0b5d284a",
   "metadata": {},
   "source": [
    "---\n",
    "## Условие 3:\n",
    "Дан список с затратами на рекламу. [100, 125, -90, 345, 655, -1, 0, 200] \n",
    "- Но в данных есть ошибки, некоторые затраты имеют отрицательную величину. Удалите такие значения из списка и посчитайте суммарные затраты\n",
    "- Используйте list comprehensions"
   ]
  },
  {
   "cell_type": "code",
   "execution_count": 5,
   "id": "90e2d4f8",
   "metadata": {},
   "outputs": [
    {
     "name": "stdout",
     "output_type": "stream",
     "text": [
      "1425\n"
     ]
    }
   ],
   "source": [
    "costs = [100, 125, -90, 345, 655, -1, 0, 200]\n",
    "print(sum([i if i > 0 else 0 for i in costs]))"
   ]
  },
  {
   "cell_type": "markdown",
   "id": "27a89f8d",
   "metadata": {},
   "source": [
    "---\n",
    "## Условие 4:\n",
    "Даны два списка:\n",
    "- Дата покупки\n",
    "\n",
    "['2021-09-14', '2021-12-15', '2021-09-08', '2021-12-05', '2021-10-09', '2021-09-30', '2021-12-22', '2021-11-29', '2021-12-24', '2021-11-26', '2021-10-27', '2021-12-18', '2021-11-09', '2021-11-23', '2021-09-27', '2021-10-02', '2021-12-27', '2021-09-20', '2021-12-13', '2021-11-01', '2021-11-09', '2021-12-06', '2021-12-08', '2021-10-09', '2021-10-31', '2021-09-30', '2021-11-09', '2021-12-13', '2021-10-26', '2021-12-09']\n",
    "- Суммы покупок по датам\n",
    "\n",
    "[1270, 8413, 9028, 3703, 5739, 4095, 295, 4944, 5723, 3701, 4471, 651, 7037, 4274, 6275, 4988, 6930, 2971, 6592, 2004, 2822, 519, 3406, 2732, 5015, 2008, 316, 6333, 5700, 2887]"
   ]
  },
  {
   "cell_type": "markdown",
   "id": "981db0d4",
   "metadata": {},
   "source": [
    "### Условие 4.1 \n",
    "Найдите, какая выручка у компании в ноябре\n",
    "- Используйте list comprehensions"
   ]
  },
  {
   "cell_type": "code",
   "execution_count": 15,
   "id": "a4920f4e",
   "metadata": {},
   "outputs": [
    {
     "data": {
      "text/plain": [
       "25098"
      ]
     },
     "execution_count": 15,
     "metadata": {},
     "output_type": "execute_result"
    }
   ],
   "source": [
    "date = ['2021-09-14', '2021-12-15', '2021-09-08', '2021-12-05', '2021-10-09', '2021-09-30', '2021-12-22', '2021-11-29', '2021-12-24', '2021-11-26', '2021-10-27', '2021-12-18', '2021-11-09', '2021-11-23', '2021-09-27', '2021-10-02', '2021-12-27', '2021-09-20', '2021-12-13', '2021-11-01', '2021-11-09', '2021-12-06', '2021-12-08', '2021-10-09', '2021-10-31', '2021-09-30', '2021-11-09', '2021-12-13', '2021-10-26', '2021-12-09'] \n",
    "date_sum = [1270, 8413, 9028, 3703, 5739, 4095, 295, 4944, 5723, 3701, 4471, 651, 7037, 4274, 6275, 4988, 6930, 2971, 6592, 2004, 2822, 519, 3406, 2732, 5015, 2008, 316, 6333, 5700, 2887]\n",
    "\n",
    "result = [date_sum[i] for i in range(len(date_sum)) if date[i].split('-')[1] == '11']\n",
    "sum(result)"
   ]
  },
  {
   "cell_type": "markdown",
   "id": "0bd6905c",
   "metadata": {},
   "source": [
    "### Условие 4.2 \n",
    "Найдите выручку компании в зависимости от месяца\n",
    "- Для этого напишите функцию, которая на вход принимает список с датами и список с выручкой, а на выходе словарь, где ключи - это месяцы, а значения - это выручка.\n",
    "- Используйте аннотирование типов."
   ]
  },
  {
   "cell_type": "code",
   "execution_count": 20,
   "id": "ac791dd5",
   "metadata": {},
   "outputs": [
    {
     "data": {
      "text/plain": [
       "{9: 25647, 12: 45452, 10: 28645, 11: 25098}"
      ]
     },
     "execution_count": 20,
     "metadata": {},
     "output_type": "execute_result"
    }
   ],
   "source": [
    "def month_revenue(date: list, sum: list) -> dict:\n",
    "    dict_revenue = dict()\n",
    "    for i in range(len(date)):\n",
    "        dict_revenue[int(date[i].split('-')[1])] = dict_revenue.get(int(date[i].split('-')[1]),0) + sum[i]\n",
    "    return dict_revenue\n",
    "\n",
    "month_revenue(date, date_sum)"
   ]
  },
  {
   "cell_type": "code",
   "execution_count": null,
   "id": "52a69e37",
   "metadata": {},
   "outputs": [],
   "source": []
  }
 ],
 "metadata": {
  "kernelspec": {
   "display_name": "Python 3 (ipykernel)",
   "language": "python",
   "name": "python3"
  },
  "language_info": {
   "codemirror_mode": {
    "name": "ipython",
    "version": 3
   },
   "file_extension": ".py",
   "mimetype": "text/x-python",
   "name": "python",
   "nbconvert_exporter": "python",
   "pygments_lexer": "ipython3",
   "version": "3.9.13"
  }
 },
 "nbformat": 4,
 "nbformat_minor": 5
}
